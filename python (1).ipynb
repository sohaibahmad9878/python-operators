{
 "cells": [
  {
   "cell_type": "code",
   "execution_count": 1,
   "id": "09e4f5f1-f256-49d3-afa5-667cc53a6496",
   "metadata": {},
   "outputs": [
    {
     "name": "stdin",
     "output_type": "stream",
     "text": [
      "enter first number:  20\n",
      "enter second number:  3\n"
     ]
    },
    {
     "name": "stdout",
     "output_type": "stream",
     "text": [
      "sum:  23\n",
      "difference:  17\n",
      "quotient(natural number):  6\n",
      "quotient(decimal value):  6\n",
      "remainder:  2\n"
     ]
    }
   ],
   "source": [
    "# Calculate the sum, difference, product, and quotient of two numbers.\n",
    "\n",
    "a = int(input(\"enter first number: \"))\n",
    "b = int(input(\"enter second number: \"))\n",
    "print(\"sum: \",a+b)\n",
    "print(\"difference: \",a-b)\n",
    "print(\"quotient(natural number): \",a//b)\n",
    "print(\"quotient(decimal value): \",a//b)\n",
    "print(\"remainder: \",a%b)"
   ]
  },
  {
   "cell_type": "code",
   "execution_count": 2,
   "id": "8f827e39-8714-4c94-9ac6-7d2574235145",
   "metadata": {},
   "outputs": [],
   "source": [
    "#Perform various assignment operations on a variable.\n",
    "\n",
    "a = 10\n",
    "a +=10"
   ]
  },
  {
   "cell_type": "code",
   "execution_count": 3,
   "id": "8f811563-022c-47ef-a425-929a67709b61",
   "metadata": {},
   "outputs": [
    {
     "data": {
      "text/plain": [
       "20"
      ]
     },
     "execution_count": 3,
     "metadata": {},
     "output_type": "execute_result"
    }
   ],
   "source": [
    "a"
   ]
  },
  {
   "cell_type": "code",
   "execution_count": 4,
   "id": "a8688f74-e0b7-4d8d-9657-a71dbd493916",
   "metadata": {},
   "outputs": [],
   "source": [
    "a = a-12"
   ]
  },
  {
   "cell_type": "code",
   "execution_count": 5,
   "id": "4c35fa7d-2019-4743-b209-91c48aa0c9f0",
   "metadata": {},
   "outputs": [
    {
     "data": {
      "text/plain": [
       "8"
      ]
     },
     "execution_count": 5,
     "metadata": {},
     "output_type": "execute_result"
    }
   ],
   "source": [
    "a"
   ]
  },
  {
   "cell_type": "code",
   "execution_count": 6,
   "id": "12607491-dafc-4a51-aa7b-4e110d17c4b6",
   "metadata": {},
   "outputs": [
    {
     "data": {
      "text/plain": [
       "1.6"
      ]
     },
     "execution_count": 6,
     "metadata": {},
     "output_type": "execute_result"
    }
   ],
   "source": [
    "a = a/5\n",
    "a"
   ]
  },
  {
   "cell_type": "code",
   "execution_count": 7,
   "id": "a805ee19-feb3-4b1b-978a-08098a0f436c",
   "metadata": {},
   "outputs": [
    {
     "data": {
      "text/plain": [
       "100"
      ]
     },
     "execution_count": 7,
     "metadata": {},
     "output_type": "execute_result"
    }
   ],
   "source": [
    "a = 20\n",
    "a = a*5\n",
    "a"
   ]
  },
  {
   "cell_type": "code",
   "execution_count": 8,
   "id": "9d1c3b30-62b8-4cf2-bba5-4029bd52d2f4",
   "metadata": {},
   "outputs": [
    {
     "data": {
      "text/plain": [
       "10000"
      ]
     },
     "execution_count": 8,
     "metadata": {},
     "output_type": "execute_result"
    }
   ],
   "source": [
    "a = a**2\n",
    "a"
   ]
  },
  {
   "cell_type": "code",
   "execution_count": 9,
   "id": "4042a116-1f23-443a-8cd0-50a947e7a12f",
   "metadata": {},
   "outputs": [
    {
     "data": {
      "text/plain": [
       "2"
      ]
     },
     "execution_count": 9,
     "metadata": {},
     "output_type": "execute_result"
    }
   ],
   "source": [
    "a = 20\n",
    "a = a%3\n",
    "a"
   ]
  },
  {
   "cell_type": "code",
   "execution_count": 14,
   "id": "ef89ce73-7f14-4944-911d-358226a56668",
   "metadata": {},
   "outputs": [
    {
     "name": "stdin",
     "output_type": "stream",
     "text": [
      "enter the first number:  100\n",
      "enter the second number:  100\n"
     ]
    },
    {
     "name": "stdout",
     "output_type": "stream",
     "text": [
      "the two given numbers are equal\n"
     ]
    }
   ],
   "source": [
    "#Compare two numbers and print the results.\n",
    "\n",
    "a = input(\"enter the first number: \")\n",
    "b = input(\"enter the second number: \")\n",
    "\n",
    "if a==b:\n",
    "    print(\"the two given numbers are equal\")\n",
    "elif a>b:\n",
    "    print(\"a is greater than b\")\n",
    "else:\n",
    "    (\"b is greater than a\")"
   ]
  },
  {
   "cell_type": "code",
   "execution_count": 19,
   "id": "94ec4802-49cb-40b3-8bfa-ccdc52016397",
   "metadata": {},
   "outputs": [
    {
     "name": "stdin",
     "output_type": "stream",
     "text": [
      "enter the first number:  9\n",
      "enter the second number:  2\n"
     ]
    },
    {
     "name": "stdout",
     "output_type": "stream",
     "text": [
      "a is greater than b\n"
     ]
    }
   ],
   "source": [
    "a = input(\"enter the first number: \")\n",
    "b = input(\"enter the second number: \")\n",
    "\n",
    "if a==b:\n",
    "    print(\"the two given numbers are equal\")\n",
    "elif a>b:\n",
    "    print(\"a is greater than b\")\n",
    "else:\n",
    "    (\"b is greater than a\")"
   ]
  },
  {
   "cell_type": "code",
   "execution_count": 20,
   "id": "7c596635-185c-4dae-97eb-5fd347fce37d",
   "metadata": {},
   "outputs": [
    {
     "name": "stdout",
     "output_type": "stream",
     "text": [
      "a is lesser than 100\n"
     ]
    }
   ],
   "source": [
    "#Check conditions using logical operators.\n",
    "\n",
    "a = 50\n",
    "if a>100:\n",
    "    print(\"50 is greater than 100 \")\n",
    "elif a<100:\n",
    "    print(\"a is lesser than 100\")\n",
    "else:\n",
    "    print(\"the number is equal to 100\")"
   ]
  },
  {
   "cell_type": "code",
   "execution_count": 21,
   "id": "f45d3215-c013-4281-aa1f-43e0c2478b89",
   "metadata": {},
   "outputs": [
    {
     "name": "stdout",
     "output_type": "stream",
     "text": [
      "50 is greater than 100\n"
     ]
    }
   ],
   "source": [
    "a = 150\n",
    "if a>100:\n",
    "    print(\"50 is greater than 100\")\n",
    "elif a<100:\n",
    "    print(\"a is lesser than 100\")\n",
    "else:\n",
    "    print(\"the number is equal to 100\")"
   ]
  },
  {
   "cell_type": "code",
   "execution_count": 22,
   "id": "b1577ae0-6595-47d5-bd71-f9acba57e1cd",
   "metadata": {},
   "outputs": [
    {
     "name": "stdout",
     "output_type": "stream",
     "text": [
      "the number is equal to 100\n"
     ]
    }
   ],
   "source": [
    "a = 100\n",
    "if a>100:\n",
    "    print(\"50 is greater than 100\")\n",
    "elif a<100:\n",
    "    print(\"a is lesser than 100\")\n",
    "else:\n",
    "    print(\"the number is equal to 100\")"
   ]
  },
  {
   "cell_type": "code",
   "execution_count": 23,
   "id": "010a2ab8-3de7-49ce-9650-dde166b4e4e4",
   "metadata": {},
   "outputs": [
    {
     "name": "stdout",
     "output_type": "stream",
     "text": [
      "i will not play cricket\n"
     ]
    }
   ],
   "source": [
    "weather=\"rainy\"\n",
    "if weather==\"rainy\":\n",
    "    print(\"i will not play cricket\")"
   ]
  },
  {
   "cell_type": "code",
   "execution_count": 24,
   "id": "a695fbfc-5b55-430c-8265-95b4ea42357e",
   "metadata": {},
   "outputs": [
    {
     "name": "stdout",
     "output_type": "stream",
     "text": [
      "i will\n"
     ]
    }
   ],
   "source": [
    "weather=\"rainy\"\n",
    "if weather==\"freezing\":\n",
    "    print(\"i will not play cricket\")\n",
    "else:\n",
    "    print(\"i will\")"
   ]
  },
  {
   "cell_type": "code",
   "execution_count": 26,
   "id": "db721cc2-2030-42b9-8d18-7b8b7902bfa4",
   "metadata": {},
   "outputs": [
    {
     "name": "stdout",
     "output_type": "stream",
     "text": [
      "False\n"
     ]
    }
   ],
   "source": [
    "#Check the identity of variables.\n",
    "\n",
    "x = 20\n",
    "y = 30\n",
    "print(x is y)"
   ]
  },
  {
   "cell_type": "code",
   "execution_count": 27,
   "id": "b64a34f5-c4c4-4a31-9e32-7b6adfadc54f",
   "metadata": {},
   "outputs": [
    {
     "name": "stdout",
     "output_type": "stream",
     "text": [
      "True\n"
     ]
    }
   ],
   "source": [
    "print(x is not y)"
   ]
  },
  {
   "cell_type": "code",
   "execution_count": 30,
   "id": "a6769635-d4eb-41b0-9487-2ca3fcffd87d",
   "metadata": {},
   "outputs": [
    {
     "name": "stdout",
     "output_type": "stream",
     "text": [
      "True\n"
     ]
    }
   ],
   "source": [
    "x =20\n",
    "y = 20\n",
    "print(x is y)"
   ]
  },
  {
   "cell_type": "code",
   "execution_count": 31,
   "id": "d291edd7-a255-4fa8-b62f-b3b2f3ade744",
   "metadata": {},
   "outputs": [
    {
     "name": "stdout",
     "output_type": "stream",
     "text": [
      "False\n"
     ]
    }
   ],
   "source": [
    "print(x is not y)"
   ]
  },
  {
   "cell_type": "code",
   "execution_count": 32,
   "id": "78cf73f9-6a63-43d0-a750-80a30301d22f",
   "metadata": {},
   "outputs": [
    {
     "data": {
      "text/plain": [
       "10"
      ]
     },
     "execution_count": 32,
     "metadata": {},
     "output_type": "execute_result"
    }
   ],
   "source": [
    "#Perform bitwise operations on any two integers.\n",
    "\n",
    "10 & 10"
   ]
  },
  {
   "cell_type": "code",
   "execution_count": 33,
   "id": "758cd5dc-e26a-4238-872d-ac248223db50",
   "metadata": {},
   "outputs": [
    {
     "data": {
      "text/plain": [
       "2"
      ]
     },
     "execution_count": 33,
     "metadata": {},
     "output_type": "execute_result"
    }
   ],
   "source": [
    "18 & 2"
   ]
  },
  {
   "cell_type": "code",
   "execution_count": 34,
   "id": "697e97f7-fb73-4160-a117-1b81fd6c6808",
   "metadata": {},
   "outputs": [
    {
     "data": {
      "text/plain": [
       "'0b1010'"
      ]
     },
     "execution_count": 34,
     "metadata": {},
     "output_type": "execute_result"
    }
   ],
   "source": [
    "bin(10)"
   ]
  },
  {
   "cell_type": "code",
   "execution_count": 35,
   "id": "df30149d-363d-413c-a319-616e143f94f5",
   "metadata": {},
   "outputs": [
    {
     "data": {
      "text/plain": [
       "'0b10010'"
      ]
     },
     "execution_count": 35,
     "metadata": {},
     "output_type": "execute_result"
    }
   ],
   "source": [
    "bin(18)"
   ]
  },
  {
   "cell_type": "code",
   "execution_count": 36,
   "id": "64bc5499-98cf-4cb5-a9a3-7929868aa627",
   "metadata": {},
   "outputs": [
    {
     "data": {
      "text/plain": [
       "'0b10'"
      ]
     },
     "execution_count": 36,
     "metadata": {},
     "output_type": "execute_result"
    }
   ],
   "source": [
    "bin(2)"
   ]
  },
  {
   "cell_type": "code",
   "execution_count": 38,
   "id": "06c5c6c4-d9f6-4369-86e1-7679b596f95a",
   "metadata": {},
   "outputs": [
    {
     "data": {
      "text/plain": [
       "3"
      ]
     },
     "execution_count": 38,
     "metadata": {},
     "output_type": "execute_result"
    }
   ],
   "source": [
    "5 ^ 6"
   ]
  },
  {
   "cell_type": "code",
   "execution_count": 39,
   "id": "9c4a1d4e-f31b-4527-b4a1-26ee47df3def",
   "metadata": {},
   "outputs": [
    {
     "data": {
      "text/plain": [
       "'0b101'"
      ]
     },
     "execution_count": 39,
     "metadata": {},
     "output_type": "execute_result"
    }
   ],
   "source": [
    "bin(5)"
   ]
  },
  {
   "cell_type": "code",
   "execution_count": 40,
   "id": "b9d9c0e0-b12f-4392-9c8e-61f96bef6bb7",
   "metadata": {},
   "outputs": [
    {
     "data": {
      "text/plain": [
       "'0b11'"
      ]
     },
     "execution_count": 40,
     "metadata": {},
     "output_type": "execute_result"
    }
   ],
   "source": [
    "bin(3)"
   ]
  },
  {
   "cell_type": "code",
   "execution_count": 41,
   "id": "623b7997-62a3-4f79-9a95-07032da4bde0",
   "metadata": {},
   "outputs": [
    {
     "data": {
      "text/plain": [
       "7"
      ]
     },
     "execution_count": 41,
     "metadata": {},
     "output_type": "execute_result"
    }
   ],
   "source": [
    "#Use unary operators to change the sign of a number.\n",
    "\n",
    "n = 7\n",
    "n"
   ]
  },
  {
   "cell_type": "code",
   "execution_count": 42,
   "id": "0c0b4f87-a852-42a5-989e-ca3b43d19578",
   "metadata": {},
   "outputs": [
    {
     "data": {
      "text/plain": [
       "-7"
      ]
     },
     "execution_count": 42,
     "metadata": {},
     "output_type": "execute_result"
    }
   ],
   "source": [
    "-n"
   ]
  },
  {
   "cell_type": "code",
   "execution_count": 43,
   "id": "4adf9cc6-3939-4cb5-80e4-543bab3b2f22",
   "metadata": {},
   "outputs": [
    {
     "data": {
      "text/plain": [
       "-7"
      ]
     },
     "execution_count": 43,
     "metadata": {},
     "output_type": "execute_result"
    }
   ],
   "source": [
    "n = -n\n",
    "n"
   ]
  },
  {
   "cell_type": "code",
   "execution_count": 44,
   "id": "2060654b-6565-46b6-a949-61c96ad74a49",
   "metadata": {},
   "outputs": [
    {
     "data": {
      "text/plain": [
       "-7"
      ]
     },
     "execution_count": 44,
     "metadata": {},
     "output_type": "execute_result"
    }
   ],
   "source": [
    "n"
   ]
  },
  {
   "cell_type": "code",
   "execution_count": 48,
   "id": "e5b2b004-7f2b-4ada-95ac-58d8e1810e99",
   "metadata": {},
   "outputs": [
    {
     "name": "stdout",
     "output_type": "stream",
     "text": [
      "Adult\n"
     ]
    }
   ],
   "source": [
    "#Use the ternary operator to assign values based on conditions.\n",
    "\n",
    "\n",
    "age = 21\n",
    "print(\"Adult\" if age>=18 else \"minor\")"
   ]
  },
  {
   "cell_type": "code",
   "execution_count": 49,
   "id": "a139c008-de75-4b89-ba45-e14dccbfc166",
   "metadata": {},
   "outputs": [
    {
     "name": "stdout",
     "output_type": "stream",
     "text": [
      "minor\n"
     ]
    }
   ],
   "source": [
    "age = 17\n",
    "print(\"Adult\" if age>=18 else \"minor\")"
   ]
  },
  {
   "cell_type": "code",
   "execution_count": null,
   "id": "6636e034-9635-4cb8-b921-8a0bc864a0d6",
   "metadata": {},
   "outputs": [],
   "source": []
  }
 ],
 "metadata": {
  "kernelspec": {
   "display_name": "Python 3 (ipykernel)",
   "language": "python",
   "name": "python3"
  },
  "language_info": {
   "codemirror_mode": {
    "name": "ipython",
    "version": 3
   },
   "file_extension": ".py",
   "mimetype": "text/x-python",
   "name": "python",
   "nbconvert_exporter": "python",
   "pygments_lexer": "ipython3",
   "version": "3.10.8"
  }
 },
 "nbformat": 4,
 "nbformat_minor": 5
}
